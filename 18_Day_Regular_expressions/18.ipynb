{
 "cells": [
  {
   "cell_type": "code",
   "execution_count": 1,
   "metadata": {},
   "outputs": [],
   "source": [
    "import re"
   ]
  },
  {
   "cell_type": "code",
   "execution_count": 24,
   "metadata": {},
   "outputs": [
    {
     "name": "stdout",
     "output_type": "stream",
     "text": [
      "['I', 'love', 'teaching', 'If', 'you', 'do', 'not', 'love', 'teaching', 'what', 'else', 'can', 'you', 'love', 'I', 'love', 'Python', 'if', 'you', 'do', 'not', 'love', 'something', 'which', 'can', 'give', 'you', 'all', 'the', 'capabilities', 'to', 'develop', 'an', 'application', 'what', 'else', 'can', 'you', 'love']\n"
     ]
    },
    {
     "data": {
      "text/plain": [
       "'love'"
      ]
     },
     "execution_count": 24,
     "metadata": {},
     "output_type": "execute_result"
    }
   ],
   "source": [
    "paragraph = 'I love teaching. If you do not love teaching what else can you love. I love Python if you do not love something which can give you all the capabilities to develop an application what else can you love.'\n",
    "regex_pattern = r'[a-zA-z]+'\n",
    "matches = re.findall(regex_pattern, paragraph)\n",
    "print(matches)\n",
    "\n",
    "words_list = list(set(matches))\n",
    "words_dict = {}\n",
    "for word in words_list:\n",
    "    words_dict[word] = matches.count(word)\n",
    "\n",
    "words_count = sorted(words_dict.items(), key=lambda item: item[1], reverse=True)\n",
    "words_count[0][0]"
   ]
  },
  {
   "cell_type": "code",
   "execution_count": 50,
   "metadata": {},
   "outputs": [
    {
     "data": {
      "text/plain": [
       "20"
      ]
     },
     "execution_count": 50,
     "metadata": {},
     "output_type": "execute_result"
    }
   ],
   "source": [
    "text = 'The position of some particles on the horizontal x-axis are -12, -4, -3 and -1 in the negative direction, 0 at origin, 4 and 8 in the positive direction. Extract these numbers from this whole text and find the distance between the two furthest particles.'\n",
    "numbers = re.findall(r'-*\\d+', text)\n",
    "numbers = [int(number) for number in numbers]\n",
    "numbers.sort()\n",
    "distance = max(numbers)-(min(numbers))\n",
    "distance\n"
   ]
  },
  {
   "cell_type": "code",
   "execution_count": 71,
   "metadata": {},
   "outputs": [
    {
     "data": {
      "text/plain": [
       "True"
      ]
     },
     "execution_count": 71,
     "metadata": {},
     "output_type": "execute_result"
    }
   ],
   "source": [
    "def is_valid_variable(string):\n",
    "    regex_pattern = r'^\\d|-'\n",
    "    searching = re.search(regex_pattern, string)\n",
    "    if searching == None:\n",
    "        return True\n",
    "    else:\n",
    "        return False\n"
   ]
  },
  {
   "cell_type": "code",
   "execution_count": null,
   "metadata": {},
   "outputs": [],
   "source": [
    "is_valid_variable('first_name') # True\n",
    "is_valid_variable('first-name') # False\n",
    "is_valid_variable('1first_name') # False\n",
    "is_valid_variable('firstname') # True"
   ]
  },
  {
   "cell_type": "code",
   "execution_count": 86,
   "metadata": {},
   "outputs": [
    {
     "name": "stdout",
     "output_type": "stream",
     "text": [
      "%\n",
      "@\n",
      "$\n",
      "?\n",
      "!\n"
     ]
    },
    {
     "ename": "NameError",
     "evalue": "name 'clean_sentence' is not defined",
     "output_type": "error",
     "traceback": [
      "\u001b[0;31m---------------------------------------------------------------------------\u001b[0m",
      "\u001b[0;31mNameError\u001b[0m                                 Traceback (most recent call last)",
      "Cell \u001b[0;32mIn[86], line 11\u001b[0m\n\u001b[1;32m      8\u001b[0m         \u001b[39m#clean_sentence = re.sub(f'{pup}', '', sentence)\u001b[39;00m\n\u001b[1;32m      9\u001b[0m     \u001b[39mprint\u001b[39m(clean_sentence)\n\u001b[0;32m---> 11\u001b[0m \u001b[39mprint\u001b[39m(clean_text(sentence))\n",
      "Cell \u001b[0;32mIn[86], line 9\u001b[0m, in \u001b[0;36mclean_text\u001b[0;34m(sentence)\u001b[0m\n\u001b[1;32m      7\u001b[0m     \u001b[39mprint\u001b[39m(pup)\n\u001b[1;32m      8\u001b[0m     \u001b[39m#clean_sentence = re.sub(f'{pup}', '', sentence)\u001b[39;00m\n\u001b[0;32m----> 9\u001b[0m \u001b[39mprint\u001b[39m(clean_sentence)\n",
      "\u001b[0;31mNameError\u001b[0m: name 'clean_sentence' is not defined"
     ]
    }
   ],
   "source": [
    "sentence = '''%I $am@% a %tea@cher%, &and& I lo%#ve %tea@ching%;. There $is nothing; &as& mo@re rewarding as educa@ting &and& @emp%o@wering peo@ple. ;I found tea@ching m%o@re interesting tha@n any other %jo@bs. %Do@es thi%s mo@tivate yo@u to be a tea@cher!?'''\n",
    "\n",
    "\n",
    "def clean_text(sentence):\n",
    "    pups = ['%', '@', '$', '?', '!']\n",
    "    for pup in pups:\n",
    "        print(pup)\n",
    "        #clean_sentence = re.sub(f'{pup}', '', sentence)\n",
    "    print(clean_sentence)\n",
    "\n",
    "print(clean_text(sentence))"
   ]
  },
  {
   "cell_type": "code",
   "execution_count": null,
   "metadata": {},
   "outputs": [],
   "source": []
  }
 ],
 "metadata": {
  "kernelspec": {
   "display_name": "Python 3",
   "language": "python",
   "name": "python3"
  },
  "language_info": {
   "codemirror_mode": {
    "name": "ipython",
    "version": 3
   },
   "file_extension": ".py",
   "mimetype": "text/x-python",
   "name": "python",
   "nbconvert_exporter": "python",
   "pygments_lexer": "ipython3",
   "version": "3.10.4"
  },
  "orig_nbformat": 4
 },
 "nbformat": 4,
 "nbformat_minor": 2
}
