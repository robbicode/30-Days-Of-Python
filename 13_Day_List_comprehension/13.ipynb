{
 "cells": [
  {
   "cell_type": "code",
   "execution_count": 1,
   "metadata": {},
   "outputs": [
    {
     "name": "stdout",
     "output_type": "stream",
     "text": [
      "[-4, -3, -2, -1, 0]\n"
     ]
    }
   ],
   "source": [
    "numbers = [-4, -3, -2, -1, 0, 2, 4, 6]\n",
    "negatif_zero = [i for i in numbers if i <= 0]\n",
    "print(negatif_zero)"
   ]
  },
  {
   "cell_type": "code",
   "execution_count": 5,
   "metadata": {},
   "outputs": [
    {
     "name": "stdout",
     "output_type": "stream",
     "text": [
      "[1, 2, 3, 4, 5, 6, 7, 8, 9]\n"
     ]
    }
   ],
   "source": [
    "list_of_lists =[[[1, 2, 3]], \n",
    "                [[4, 5, 6]], \n",
    "                [[7, 8, 9]]]\n",
    "flattened = [number for row in list_of_lists for numbers in row for number in numbers]\n",
    "print(flattened)"
   ]
  },
  {
   "cell_type": "code",
   "execution_count": 11,
   "metadata": {},
   "outputs": [
    {
     "data": {
      "text/plain": [
       "[(0, 1, 0, 0, 0, 0, 0),\n",
       " (1, 1, 1, 1, 1, 1, 1),\n",
       " (2, 1, 2, 4, 8, 16, 32),\n",
       " (3, 1, 3, 9, 27, 81, 243),\n",
       " (4, 1, 4, 16, 64, 256, 1024),\n",
       " (5, 1, 5, 25, 125, 625, 3125),\n",
       " (6, 1, 6, 36, 216, 1296, 7776),\n",
       " (7, 1, 7, 49, 343, 2401, 16807),\n",
       " (8, 1, 8, 64, 512, 4096, 32768),\n",
       " (9, 1, 9, 81, 729, 6561, 59049),\n",
       " (10, 1, 10, 100, 1000, 10000, 100000)]"
      ]
     },
     "execution_count": 11,
     "metadata": {},
     "output_type": "execute_result"
    }
   ],
   "source": [
    "ls = [(i, 1, i, i**2, i**3, i**4, i**5) for i in range(11)]\n",
    "ls"
   ]
  },
  {
   "cell_type": "code",
   "execution_count": 15,
   "metadata": {},
   "outputs": [
    {
     "data": {
      "text/plain": [
       "'pip'"
      ]
     },
     "execution_count": 15,
     "metadata": {},
     "output_type": "execute_result"
    }
   ],
   "source": [
    "set = ('pipip', 'papap')\n",
    "set[0][0:3]\n"
   ]
  },
  {
   "cell_type": "code",
   "execution_count": 21,
   "metadata": {},
   "outputs": [
    {
     "data": {
      "text/plain": [
       "[['FINLAND', 'FIN', 'HELSINKI'],\n",
       " ['SWEDEN', 'SWE', 'STOCKHOLM'],\n",
       " ['NORWAY', 'NOR', 'OSLO']]"
      ]
     },
     "execution_count": 21,
     "metadata": {},
     "output_type": "execute_result"
    }
   ],
   "source": [
    "countries = [[('Finland', 'Helsinki')], [('Sweden', 'Stockholm')], [('Norway', 'Oslo')]]\n",
    "output = [[set_capitol[0].upper(), set_capitol[0][:3].upper(), set_capitol[1].upper()] for list_capitol in countries for set_capitol in list_capitol]\n",
    "output"
   ]
  },
  {
   "cell_type": "code",
   "execution_count": 26,
   "metadata": {},
   "outputs": [
    {
     "data": {
      "text/plain": [
       "[{'country': 'FINLAND', 'city': 'HELSINKI'},\n",
       " {'country': 'SWEDEN', 'city': 'STOCKHOLM'},\n",
       " {'country': 'NORWAY', 'city': 'OSLO'}]"
      ]
     },
     "execution_count": 26,
     "metadata": {},
     "output_type": "execute_result"
    }
   ],
   "source": [
    "countries = [[('Finland', 'Helsinki')], [('Sweden', 'Stockholm')], [('Norway', 'Oslo')]]\n",
    "output = [{'country':set_capitol[0].upper(), 'city':set_capitol[1].upper()} for list_capitol in countries for set_capitol in list_capitol]\n",
    "output"
   ]
  },
  {
   "cell_type": "code",
   "execution_count": 28,
   "metadata": {},
   "outputs": [
    {
     "data": {
      "text/plain": [
       "['Asabeneh Yetayeh', 'David Smith', 'Donald Trump', 'Bill Gates']"
      ]
     },
     "execution_count": 28,
     "metadata": {},
     "output_type": "execute_result"
    }
   ],
   "source": [
    "names = [[('Asabeneh', 'Yetayeh')], [('David', 'Smith')], [('Donald', 'Trump')], [('Bill', 'Gates')]]\n",
    "output = [f'{set_name[0]} {set_name[1]}' for list_name in names for set_name in list_name]\n",
    "output"
   ]
  }
 ],
 "metadata": {
  "kernelspec": {
   "display_name": "Python 3",
   "language": "python",
   "name": "python3"
  },
  "language_info": {
   "codemirror_mode": {
    "name": "ipython",
    "version": 3
   },
   "file_extension": ".py",
   "mimetype": "text/x-python",
   "name": "python",
   "nbconvert_exporter": "python",
   "pygments_lexer": "ipython3",
   "version": "3.10.4"
  },
  "orig_nbformat": 4
 },
 "nbformat": 4,
 "nbformat_minor": 2
}
