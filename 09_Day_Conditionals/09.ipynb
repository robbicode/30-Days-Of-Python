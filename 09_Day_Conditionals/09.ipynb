{
 "cells": [
  {
   "attachments": {},
   "cell_type": "markdown",
   "metadata": {},
   "source": [
    "💻 Exercises: Day 9\n"
   ]
  },
  {
   "attachments": {},
   "cell_type": "markdown",
   "metadata": {},
   "source": [
    "Exercise 1"
   ]
  },
  {
   "cell_type": "code",
   "execution_count": 5,
   "metadata": {},
   "outputs": [
    {
     "name": "stdout",
     "output_type": "stream",
     "text": [
      "You need 3 more years to learn to drive.\n"
     ]
    }
   ],
   "source": [
    "age = int(input('Enter your age:'))\n",
    "if age >= 18:\n",
    "    print('You are old enough to drive')\n",
    "else:\n",
    "    x = 18 - age\n",
    "    print(f'You need {x} more years to learn to drive.')"
   ]
  },
  {
   "cell_type": "code",
   "execution_count": 10,
   "metadata": {},
   "outputs": [
    {
     "name": "stdout",
     "output_type": "stream",
     "text": [
      "You are 30 years older than me\n"
     ]
    }
   ],
   "source": [
    "my_age = 24\n",
    "your_age = int(input('Enter your age:'))\n",
    "diff = abs(my_age-your_age)\n",
    "if your_age > my_age:\n",
    "    year = 'years'\n",
    "    if x == 1:\n",
    "        year = 'year'\n",
    "    print(f'You are {diff} {year} older than me')\n",
    "elif your_age == my_age:\n",
    "    print('you\\'re my age')\n",
    "else:\n",
    "    year = 'years'\n",
    "    if diff == 1:\n",
    "        year = 'year'\n",
    "    print(f'You are {diff} {year} younger than.')"
   ]
  },
  {
   "cell_type": "code",
   "execution_count": 3,
   "metadata": {},
   "outputs": [
    {
     "name": "stdout",
     "output_type": "stream",
     "text": [
      "your grade is A\n"
     ]
    }
   ],
   "source": [
    "score = int(input('Input your grade:'))\n",
    "# from the net\n",
    "# Calculate letter grade of each student \n",
    "def assign_letter_grade(score): \n",
    "    if score >= 79: return \"A\"\n",
    "    elif score >= 69: return \"B\"\n",
    "    elif score >= 59: return \"C\"\n",
    "    elif score >= 49: return \"D\"\n",
    "    else : return \"F\"\n",
    "\n",
    "grade = assign_letter_grade(score)\n",
    "print(f'your grade is {grade}')"
   ]
  },
  {
   "cell_type": "code",
   "execution_count": 24,
   "metadata": {},
   "outputs": [],
   "source": [
    "autumn = ['September', 'October', 'November']\n",
    "winter = ['December', 'January', 'February']\n",
    "spring = ['March', 'April', 'May']\n",
    "summer = ['June', 'July', 'August']\n"
   ]
  },
  {
   "cell_type": "code",
   "execution_count": 43,
   "metadata": {},
   "outputs": [],
   "source": [
    "seasons = {'autumn': autumn,\n",
    "           'winter': winter,\n",
    "           'spring': spring,\n",
    "           'summer': summer}\n"
   ]
  },
  {
   "cell_type": "code",
   "execution_count": 44,
   "metadata": {},
   "outputs": [
    {
     "name": "stdout",
     "output_type": "stream",
     "text": [
      "it's spring\n"
     ]
    }
   ],
   "source": [
    "month = input('what month?')\n",
    "for season, months in seasons.items():\n",
    "    if month in months:\n",
    "        print(f'it\\'s {season}')"
   ]
  },
  {
   "cell_type": "code",
   "execution_count": 47,
   "metadata": {},
   "outputs": [
    {
     "name": "stdout",
     "output_type": "stream",
     "text": [
      "['banana', 'orange', 'mango', 'lemon', 'apple']\n"
     ]
    }
   ],
   "source": [
    "fruit = input('what fruit?')\n",
    "fruits = ['banana', 'orange', 'mango', 'lemon']\n",
    "if fruit in fruits:\n",
    "    print('That fruit already exist in the list')\n",
    "else:\n",
    "    fruits.append(fruit)\n",
    "    print(fruits)"
   ]
  },
  {
   "attachments": {},
   "cell_type": "markdown",
   "metadata": {},
   "source": [
    "Excercises 3"
   ]
  },
  {
   "cell_type": "code",
   "execution_count": 67,
   "metadata": {},
   "outputs": [],
   "source": [
    "person={\n",
    "    'first_name': 'Asabeneh',\n",
    "    'last_name': 'Yetayeh',\n",
    "    'age': 250,\n",
    "    'country': 'Finland',\n",
    "    'is_married': True,\n",
    "    'skills': ['JavaScript', 'React'],\n",
    "    #'skills': ['JavaScript', 'React', 'Node', 'MongoDB', 'Python'],\n",
    "    'address': {\n",
    "        'street': 'Space street',\n",
    "        'zipcode': '02210'\n",
    "    }\n",
    "    }"
   ]
  },
  {
   "cell_type": "code",
   "execution_count": 68,
   "metadata": {},
   "outputs": [
    {
     "ename": "IndexError",
     "evalue": "list index out of range",
     "output_type": "error",
     "traceback": [
      "\u001b[0;31m---------------------------------------------------------------------------\u001b[0m",
      "\u001b[0;31mIndexError\u001b[0m                                Traceback (most recent call last)",
      "Cell \u001b[0;32mIn[68], line 2\u001b[0m\n\u001b[1;32m      1\u001b[0m \u001b[39mif\u001b[39;00m \u001b[39m'\u001b[39m\u001b[39mskills\u001b[39m\u001b[39m'\u001b[39m \u001b[39min\u001b[39;00m person:\n\u001b[0;32m----> 2\u001b[0m     \u001b[39mprint\u001b[39m(person[\u001b[39m'\u001b[39;49m\u001b[39mskills\u001b[39;49m\u001b[39m'\u001b[39;49m][\u001b[39m2\u001b[39;49m])\n",
      "\u001b[0;31mIndexError\u001b[0m: list index out of range"
     ]
    }
   ],
   "source": [
    "if 'skills' in person:\n",
    "    print(person['skills'][2])"
   ]
  },
  {
   "cell_type": "code",
   "execution_count": null,
   "metadata": {},
   "outputs": [
    {
     "name": "stdout",
     "output_type": "stream",
     "text": [
      "Python\n"
     ]
    }
   ],
   "source": [
    "if person.get('skills'):\n",
    "    skill = 'Python'\n",
    "    if skill in person['skills']:\n",
    "        print(skill)"
   ]
  },
  {
   "cell_type": "code",
   "execution_count": null,
   "metadata": {},
   "outputs": [
    {
     "name": "stdout",
     "output_type": "stream",
     "text": [
      "He is a front end developer\n"
     ]
    }
   ],
   "source": [
    "front = ['JavaScript', 'React']\n",
    "backend = ['Node', 'Python', 'MongoDB']\n",
    "fullstack = ['React', 'Node', 'MongoDB']\n",
    "\n",
    "skills = person['skills']\n",
    "if skills == front:\n",
    "    print('He is a front end developer')\n",
    "else:\n",
    "    print('unknown title')"
   ]
  },
  {
   "cell_type": "code",
   "execution_count": 69,
   "metadata": {},
   "outputs": [
    {
     "name": "stdout",
     "output_type": "stream",
     "text": [
      "Asabeneh Yetayeh dont live in Finland. He is married.\n"
     ]
    }
   ],
   "source": [
    "if person['is_married']:\n",
    "    if person['country'] == 'Finland':\n",
    "        print(f'Asabeneh Yetayeh lives in Finland. He is married.')\n",
    "    else:\n",
    "        print(f'Asabeneh Yetayeh dont live in Finland. He is married.')\n",
    "else:\n",
    "    print('he\\'s not married')"
   ]
  },
  {
   "cell_type": "code",
   "execution_count": null,
   "metadata": {},
   "outputs": [],
   "source": []
  }
 ],
 "metadata": {
  "kernelspec": {
   "display_name": "Python 3",
   "language": "python",
   "name": "python3"
  },
  "language_info": {
   "codemirror_mode": {
    "name": "ipython",
    "version": 3
   },
   "file_extension": ".py",
   "mimetype": "text/x-python",
   "name": "python",
   "nbconvert_exporter": "python",
   "pygments_lexer": "ipython3",
   "version": "3.10.4"
  },
  "orig_nbformat": 4,
  "vscode": {
   "interpreter": {
    "hash": "3ad933181bd8a04b432d3370b9dc3b0662ad032c4dfaa4e4f1596c548f763858"
   }
  }
 },
 "nbformat": 4,
 "nbformat_minor": 2
}
